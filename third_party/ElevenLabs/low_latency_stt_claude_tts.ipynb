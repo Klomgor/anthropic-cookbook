{
 "cells": [
  {
   "cell_type": "markdown",
   "id": "3fc2fd8d",
   "metadata": {},
   "source": [
    "# Low Latency Voice Assistant with ElevenLabs and Claude\n",
    "\n",
    "This notebook demonstrates how to build a low-latency voice assistant using ElevenLabs for speech-to-text and text-to-speech, combined with Claude for intelligent responses. We'll measure the performance gains from streaming responses to minimize latency.\n",
    "\n",
    "In this notebook, we will demonstrate how to:\n",
    "\n",
    "1. Convert text to speech using ElevenLabs TTS\n",
    "2. Transcribe audio using ElevenLabs speech-to-text\n",
    "3. Generate responses with Claude\n",
    "4. Optimize latency using Claude's streaming API\n",
    "\n",
    "---\n",
    "\n",
    "## Installation\n",
    "\n",
    "First, install the required dependencies:"
   ]
  },
  {
   "cell_type": "code",
   "execution_count": null,
   "id": "bf25eeed",
   "metadata": {},
   "outputs": [],
   "source": [
    "%pip install -r requirements.txt"
   ]
  },
  {
   "cell_type": "markdown",
   "id": "9d383a4d",
   "metadata": {},
   "source": [
    "## Imports\n",
    "\n",
    "Import the necessary libraries for ElevenLabs integration, Claude API access, and audio playback:"
   ]
  },
  {
   "cell_type": "code",
   "execution_count": 8,
   "id": "2f00884d",
   "metadata": {},
   "outputs": [],
   "source": [
    "import io\n",
    "import os\n",
    "import time\n",
    "\n",
    "import anthropic\n",
    "import elevenlabs\n",
    "import numpy as np\n",
    "from dotenv import load_dotenv\n",
    "from IPython.display import Audio"
   ]
  },
  {
   "cell_type": "markdown",
   "id": "86b29f9f",
   "metadata": {},
   "source": [
    "## API Keys\n",
    "\n",
    "Set up your API keys for both ElevenLabs and Anthropic.\n",
    "\n",
    "**Setup Instructions:**\n",
    "\n",
    "1. Copy `.env.example` to `.env` in this directory\n",
    "2. Edit `.env` and add your actual API keys:\n",
    "   - Get your ElevenLabs API key: https://elevenlabs.io/app/developers/api-keys\n",
    "   - Get your Anthropic API key: https://console.anthropic.com/settings/keys\n",
    "\n",
    "The keys will be automatically loaded from the `.env` file."
   ]
  },
  {
   "cell_type": "code",
   "execution_count": 9,
   "id": "e16ac6e5",
   "metadata": {},
   "outputs": [],
   "source": [
    "# Load environment variables from .env file\n",
    "load_dotenv()\n",
    "\n",
    "ELEVENLABS_API_KEY = os.getenv(\"ELEVENLABS_API_KEY\")\n",
    "ANTHROPIC_API_KEY = os.getenv(\"ANTHROPIC_API_KEY\")"
   ]
  },
  {
   "cell_type": "markdown",
   "id": "fe6020be",
   "metadata": {},
   "source": [
    "## Initialize Clients\n",
    "\n",
    "Create client instances for both ElevenLabs and Anthropic services:"
   ]
  },
  {
   "cell_type": "code",
   "execution_count": 10,
   "id": "1a68bea8",
   "metadata": {},
   "outputs": [],
   "source": [
    "assert ELEVENLABS_API_KEY is not None, \"ERROR: ELEVENLABS_API_KEY not found. Please copy .env.example to .env and add your API keys.\"\n",
    "assert ANTHROPIC_API_KEY is not None, \"ERROR: ANTHROPIC_API_KEY not found. Please copy .env.example to .env and add your API keys.\"\n",
    "\n",
    "elevenlabs_client = elevenlabs.ElevenLabs(\n",
    "    api_key=ELEVENLABS_API_KEY,\n",
    "    base_url=\"https://api.elevenlabs.io\"\n",
    ")\n",
    "\n",
    "anthropic_client = anthropic.Anthropic(\n",
    "    api_key=ANTHROPIC_API_KEY\n",
    ")"
   ]
  },
  {
   "cell_type": "markdown",
   "id": "e6e89d06",
   "metadata": {},
   "source": [
    "## List Available Models and Voices\n",
    "\n",
    "Explore the available ElevenLabs models and voices. We'll automatically select the first available voice for the assistant's responses:"
   ]
  },
  {
   "cell_type": "code",
   "execution_count": 11,
   "id": "1daed00d",
   "metadata": {},
   "outputs": [
    {
     "name": "stdout",
     "output_type": "stream",
     "text": [
      "Available Models and Voices:\n",
      "\n",
      "Eleven v3 (alpha): eleven_v3\n",
      "Eleven Multilingual v2: eleven_multilingual_v2\n",
      "Eleven Flash v2.5: eleven_flash_v2_5\n",
      "Eleven Turbo v2.5: eleven_turbo_v2_5\n",
      "Eleven Turbo v2: eleven_turbo_v2\n",
      "Eleven Flash v2: eleven_flash_v2\n",
      "Eleven English v2: eleven_english_sts_v2\n",
      "Eleven English v1: eleven_monolingual_v1\n",
      "Eleven Multilingual v1: eleven_multilingual_v1\n",
      "Eleven Multilingual v2: eleven_multilingual_sts_v2\n",
      "\n",
      "Rachel: 21m00Tcm4TlvDq8ikWAM\n",
      "Drew: 29vD33N1CtxCmqQRPOHJ\n",
      "Clyde: 2EiwWnXFnvU5JabPnv8n\n",
      "Paul: 5Q0t7uMcjvnagumLfvZi\n",
      "Aria: 9BWtsMINqrJLrRacOk9x\n",
      "Domi: AZnzlk1XvdvUeBnXmlld\n",
      "Dave: CYw3kZ02Hs0563khs1Fj\n",
      "Roger: CwhRBWXzGAHq8TQ4Fs17\n",
      "Fin: D38z5RcWu1voky8WS1ja\n",
      "Sarah: EXAVITQu4vr4xnSDxMaL\n",
      "\n",
      "Selected voice: Rachel with ID: 21m00Tcm4TlvDq8ikWAM\n"
     ]
    }
   ],
   "source": [
    "print(\"Available Models and Voices:\\n\")\n",
    "for model in elevenlabs_client.models.list():\n",
    "    print(f\"{model.name}: {model.model_id}\")\n",
    "\n",
    "print()\n",
    "\n",
    "voices = elevenlabs_client.voices.search().voices\n",
    "for voice in voices:\n",
    "    print(f\"{voice.name}: {voice.voice_id}\")\n",
    "\n",
    "# Select the first voice for assistant responses\n",
    "selected_voice = voices[0]\n",
    "VOICE_ID = selected_voice.voice_id\n",
    "\n",
    "print(f\"\\nSelected voice: {selected_voice.name} with ID: {VOICE_ID}\")"
   ]
  },
  {
   "cell_type": "markdown",
   "id": "d82d505c",
   "metadata": {},
   "source": [
    "## Generate Input Audio\n",
    "\n",
    "Create a sample audio file using ElevenLabs text-to-speech. This will simulate user input for our voice assistant:"
   ]
  },
  {
   "cell_type": "code",
   "execution_count": 12,
   "id": "dada5148",
   "metadata": {},
   "outputs": [
    {
     "data": {
      "text/html": [
       "\n",
       "                <audio  controls=\"controls\" >\n",
       "                    <source src=\"data:audio/wav;base64,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\" type=\"audio/wav\" />\n",
       "                    Your browser does not support the audio element.\n",
       "                </audio>\n",
       "              "
      ],
      "text/plain": [
       "<IPython.lib.display.Audio object>"
      ]
     },
     "execution_count": 12,
     "metadata": {},
     "output_type": "execute_result"
    }
   ],
   "source": [
    "audio = elevenlabs_client.text_to_speech.convert(\n",
    "    voice_id=VOICE_ID,  # Use the dynamically selected voice\n",
    "    output_format=\"mp3_44100_128\",\n",
    "    model_id=\"eleven_v3\",\n",
    "    text=\"Hello, Claude. \",\n",
    ")\n",
    "\n",
    "audio_data = io.BytesIO()\n",
    "for chunk in audio:\n",
    "    audio_data.write(chunk)\n",
    "\n",
    "Audio(audio_data.getvalue())"
   ]
  },
  {
   "cell_type": "markdown",
   "id": "60c8bd1e",
   "metadata": {},
   "source": [
    "## Speech Transcription\n",
    "\n",
    "Transcribe the audio input using ElevenLabs' speech-to-text model. We'll measure the transcription latency:"
   ]
  },
  {
   "cell_type": "code",
   "execution_count": 13,
   "id": "3ba9ff5c",
   "metadata": {},
   "outputs": [
    {
     "name": "stdout",
     "output_type": "stream",
     "text": [
      "Transcribed text: Hello, Claude.\n",
      "Transcription time: 0.49 seconds\n"
     ]
    }
   ],
   "source": [
    "audio_data.seek(0)\n",
    "\n",
    "start_time = time.time()\n",
    "\n",
    "transcription = elevenlabs_client.speech_to_text.convert(\n",
    "    file=audio_data,\n",
    "    model_id=\"scribe_v1\"\n",
    ")\n",
    "\n",
    "end_time = time.time()\n",
    "transcription_time = end_time - start_time\n",
    "\n",
    "print(f\"Transcribed text: {transcription.text}\")\n",
    "print(f\"Transcription time: {transcription_time:.2f} seconds\")"
   ]
  },
  {
   "cell_type": "markdown",
   "id": "ad94cc69",
   "metadata": {},
   "source": [
    "## Get a Response from Claude\n",
    "\n",
    "Send the transcribed text to Claude and measure the response time. We're using `claude-haiku-4-5` for fast, high-quality responses:"
   ]
  },
  {
   "cell_type": "code",
   "execution_count": 14,
   "id": "3b515831",
   "metadata": {},
   "outputs": [
    {
     "name": "stdout",
     "output_type": "stream",
     "text": [
      "Hello! It's nice to meet you. How can I help you today?\n",
      "\n",
      "Response time: 1.63 seconds\n"
     ]
    }
   ],
   "source": [
    "start_time = time.time()\n",
    "\n",
    "message = anthropic_client.messages.create(\n",
    "    model=\"claude-haiku-4-5\",\n",
    "    max_tokens=1000,\n",
    "    temperature=0,\n",
    "    messages=[\n",
    "        {\n",
    "            \"role\": \"user\",\n",
    "            \"content\": transcription.text\n",
    "        }\n",
    "    ]\n",
    ")\n",
    "\n",
    "end_time = time.time()\n",
    "non_streaming_response_time = end_time - start_time\n",
    "\n",
    "print(message.content[0].text)\n",
    "print(f\"\\nResponse time: {non_streaming_response_time:.2f} seconds\")"
   ]
  },
  {
   "cell_type": "markdown",
   "id": "9716dbf8",
   "metadata": {},
   "source": [
    "## Optimize with Streaming\n",
    "\n",
    "Improve response latency by using Claude's streaming API. This allows us to receive the first tokens much faster, significantly reducing perceived latency:"
   ]
  },
  {
   "cell_type": "code",
   "execution_count": 15,
   "id": "fc747c00",
   "metadata": {},
   "outputs": [
    {
     "name": "stdout",
     "output_type": "stream",
     "text": [
      "Hello! It's nice to meet you. How can I help you today?\n",
      "\n",
      "Streaming time to first token: 1.01 seconds - reducing perceived latency by 37.96%\n"
     ]
    }
   ],
   "source": [
    "start_time = time.time()\n",
    "first_token_time = None\n",
    "\n",
    "claude_full_response = \"\"\n",
    "\n",
    "with anthropic_client.messages.stream(\n",
    "    model=\"claude-haiku-4-5\",\n",
    "    max_tokens=1000,\n",
    "    temperature=0,\n",
    "    messages=[\n",
    "        {\n",
    "            \"role\": \"user\",\n",
    "            \"content\": transcription.text\n",
    "        }\n",
    "    ]\n",
    ") as stream:\n",
    "  for text in stream.text_stream:\n",
    "      claude_full_response += text\n",
    "      print(text, end=\"\", flush=True)\n",
    "      if first_token_time is None:\n",
    "        first_token_time = time.time()\n",
    "\n",
    "streaming_time_to_first_token = first_token_time - start_time\n",
    "print(f\"\\n\\nStreaming time to first token: {streaming_time_to_first_token:.2f} seconds - reducing perceived latency by {(non_streaming_response_time - streaming_time_to_first_token)*100/non_streaming_response_time:.2f}%\")"
   ]
  },
  {
   "cell_type": "markdown",
   "id": "0bbecfb4",
   "metadata": {},
   "source": [
    "Text to speech. Similar to above, we can stream the response to reduce the silence."
   ]
  },
  {
   "cell_type": "code",
   "execution_count": 16,
   "id": "e5ec455c",
   "metadata": {},
   "outputs": [
    {
     "name": "stdout",
     "output_type": "stream",
     "text": [
      "Streaming TTS time to first audio chunk: 0.35 seconds\n"
     ]
    },
    {
     "data": {
      "text/html": [
       "\n",
       "                <audio  controls=\"controls\" >\n",
       "                    <source src=\"data:audio/wav;base64,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\" type=\"audio/wav\" />\n",
       "                    Your browser does not support the audio element.\n",
       "                </audio>\n",
       "              "
      ],
      "text/plain": [
       "<IPython.lib.display.Audio object>"
      ]
     },
     "execution_count": 16,
     "metadata": {},
     "output_type": "execute_result"
    }
   ],
   "source": [
    "start_time = time.time()\n",
    "first_audio_chunk_time = None\n",
    "\n",
    "audio_buffer = io.BytesIO()\n",
    "\n",
    "audio_generator = elevenlabs_client.text_to_speech.stream(\n",
    "    voice_id=VOICE_ID,\n",
    "    output_format=\"mp3_44100_128\",\n",
    "    text=claude_full_response,\n",
    "    model_id=\"eleven_turbo_v2_5\"\n",
    ")\n",
    "\n",
    "for chunk in audio_generator:\n",
    "    if first_audio_chunk_time is None:\n",
    "        first_audio_chunk_time = time.time()\n",
    "    audio_buffer.write(chunk)\n",
    "\n",
    "streaming_tts_time_to_first_chunk = first_audio_chunk_time - start_time\n",
    "print(f\"Streaming TTS time to first audio chunk: {streaming_tts_time_to_first_chunk:.2f} seconds\")\n",
    "\n",
    "Audio(audio_buffer.getvalue())"
   ]
  },
  {
   "cell_type": "markdown",
   "id": "927ab0e0",
   "metadata": {},
   "source": [
    "## Streaming Claude Directly to TTS (Sentence-by-Sentence)\n",
    "\n",
    "We've optimized Claude's streaming and TTS separately, but can we combine them? Let's stream Claude's response and synthesize audio as soon as we have complete sentences.\n",
    "\n",
    "This approach detects sentence boundaries (using punctuation like `.`, `!`, `?`) and immediately sends each sentence to TTS, further reducing latency."
   ]
  },
  {
   "cell_type": "code",
   "execution_count": 17,
   "id": "0d063ed9",
   "metadata": {},
   "outputs": [
    {
     "name": "stdout",
     "output_type": "stream",
     "text": [
      "Hello! It's nice to meet you"
     ]
    },
    {
     "ename": "ApiError",
     "evalue": "headers: {'date': 'Thu, 30 Oct 2025 09:54:56 GMT', 'server': 'uvicorn', 'content-length': '152', 'content-type': 'application/json', 'access-control-allow-origin': '*', 'access-control-allow-headers': '*', 'access-control-allow-methods': 'POST, PATCH, OPTIONS, DELETE, GET, PUT', 'access-control-max-age': '600', 'strict-transport-security': 'max-age=31536000; includeSubDomains', 'x-trace-id': '6a4be64f02401236a171f324d4b8e9df', 'x-region': 'us-central1', 'via': '1.1 google, 1.1 google', 'alt-svc': 'h3=\":443\"; ma=2592000,h3-29=\":443\"; ma=2592000'}, status_code: 403, body: {'detail': {'status': 'output_format_not_allowed', 'message': 'Requested output format pcm_44100 (PCM at 44100hz) is only allowed for Pro tier and above.'}}",
     "output_type": "error",
     "traceback": [
      "\u001b[0;31m---------------------------------------------------------------------------\u001b[0m",
      "\u001b[0;31mApiError\u001b[0m                                  Traceback (most recent call last)",
      "Cell \u001b[0;32mIn[17], line 35\u001b[0m\n\u001b[1;32m     27\u001b[0m audio_gen \u001b[38;5;241m=\u001b[39m elevenlabs_client\u001b[38;5;241m.\u001b[39mtext_to_speech\u001b[38;5;241m.\u001b[39mconvert(\n\u001b[1;32m     28\u001b[0m     voice_id\u001b[38;5;241m=\u001b[39mVOICE_ID,\n\u001b[1;32m     29\u001b[0m     output_format\u001b[38;5;241m=\u001b[39m\u001b[38;5;124m\"\u001b[39m\u001b[38;5;124mpcm_44100\u001b[39m\u001b[38;5;124m\"\u001b[39m,\n\u001b[1;32m     30\u001b[0m     text\u001b[38;5;241m=\u001b[39mcomplete_sentence,\n\u001b[1;32m     31\u001b[0m     model_id\u001b[38;5;241m=\u001b[39m\u001b[38;5;124m\"\u001b[39m\u001b[38;5;124meleven_turbo_v2_5\u001b[39m\u001b[38;5;124m\"\u001b[39m\n\u001b[1;32m     32\u001b[0m )\n\u001b[1;32m     34\u001b[0m sentence_audio \u001b[38;5;241m=\u001b[39m io\u001b[38;5;241m.\u001b[39mBytesIO()\n\u001b[0;32m---> 35\u001b[0m \u001b[38;5;28;01mfor\u001b[39;00m chunk \u001b[38;5;129;01min\u001b[39;00m audio_gen:\n\u001b[1;32m     36\u001b[0m     \u001b[38;5;28;01mif\u001b[39;00m first_audio_time \u001b[38;5;129;01mis\u001b[39;00m \u001b[38;5;28;01mNone\u001b[39;00m:\n\u001b[1;32m     37\u001b[0m         first_audio_time \u001b[38;5;241m=\u001b[39m time\u001b[38;5;241m.\u001b[39mtime()\n",
      "File \u001b[0;32m/opt/homebrew/Caskroom/miniforge/base/envs/py311/lib/python3.11/site-packages/elevenlabs/text_to_speech/client.py:163\u001b[0m, in \u001b[0;36mTextToSpeechClient.convert\u001b[0;34m(self, voice_id, text, enable_logging, optimize_streaming_latency, output_format, model_id, language_code, voice_settings, pronunciation_dictionary_locators, seed, previous_text, next_text, previous_request_ids, next_request_ids, use_pvc_as_ivc, apply_text_normalization, apply_language_text_normalization, request_options)\u001b[0m\n\u001b[1;32m     52\u001b[0m \u001b[38;5;28;01mdef\u001b[39;00m \u001b[38;5;21mconvert\u001b[39m(\n\u001b[1;32m     53\u001b[0m     \u001b[38;5;28mself\u001b[39m,\n\u001b[1;32m     54\u001b[0m     voice_id: \u001b[38;5;28mstr\u001b[39m,\n\u001b[0;32m   (...)\u001b[0m\n\u001b[1;32m     76\u001b[0m     request_options: typing\u001b[38;5;241m.\u001b[39mOptional[RequestOptions] \u001b[38;5;241m=\u001b[39m \u001b[38;5;28;01mNone\u001b[39;00m,\n\u001b[1;32m     77\u001b[0m ) \u001b[38;5;241m-\u001b[39m\u001b[38;5;241m>\u001b[39m typing\u001b[38;5;241m.\u001b[39mIterator[\u001b[38;5;28mbytes\u001b[39m]:\n\u001b[1;32m     78\u001b[0m \u001b[38;5;250m    \u001b[39m\u001b[38;5;124;03m\"\"\"\u001b[39;00m\n\u001b[1;32m     79\u001b[0m \u001b[38;5;124;03m    Converts text into speech using a voice of your choice and returns audio.\u001b[39;00m\n\u001b[1;32m     80\u001b[0m \n\u001b[0;32m   (...)\u001b[0m\n\u001b[1;32m    161\u001b[0m \u001b[38;5;124;03m    )\u001b[39;00m\n\u001b[1;32m    162\u001b[0m \u001b[38;5;124;03m    \"\"\"\u001b[39;00m\n\u001b[0;32m--> 163\u001b[0m \u001b[43m    \u001b[49m\u001b[38;5;28;43;01mwith\u001b[39;49;00m\u001b[43m \u001b[49m\u001b[38;5;28;43mself\u001b[39;49m\u001b[38;5;241;43m.\u001b[39;49m\u001b[43m_raw_client\u001b[49m\u001b[38;5;241;43m.\u001b[39;49m\u001b[43mconvert\u001b[49m\u001b[43m(\u001b[49m\n\u001b[1;32m    164\u001b[0m \u001b[43m        \u001b[49m\u001b[43mvoice_id\u001b[49m\u001b[43m,\u001b[49m\n\u001b[1;32m    165\u001b[0m \u001b[43m        \u001b[49m\u001b[43mtext\u001b[49m\u001b[38;5;241;43m=\u001b[39;49m\u001b[43mtext\u001b[49m\u001b[43m,\u001b[49m\n\u001b[1;32m    166\u001b[0m \u001b[43m        \u001b[49m\u001b[43menable_logging\u001b[49m\u001b[38;5;241;43m=\u001b[39;49m\u001b[43menable_logging\u001b[49m\u001b[43m,\u001b[49m\n\u001b[1;32m    167\u001b[0m \u001b[43m        \u001b[49m\u001b[43moptimize_streaming_latency\u001b[49m\u001b[38;5;241;43m=\u001b[39;49m\u001b[43moptimize_streaming_latency\u001b[49m\u001b[43m,\u001b[49m\n\u001b[1;32m    168\u001b[0m \u001b[43m        \u001b[49m\u001b[43moutput_format\u001b[49m\u001b[38;5;241;43m=\u001b[39;49m\u001b[43moutput_format\u001b[49m\u001b[43m,\u001b[49m\n\u001b[1;32m    169\u001b[0m \u001b[43m        \u001b[49m\u001b[43mmodel_id\u001b[49m\u001b[38;5;241;43m=\u001b[39;49m\u001b[43mmodel_id\u001b[49m\u001b[43m,\u001b[49m\n\u001b[1;32m    170\u001b[0m \u001b[43m        \u001b[49m\u001b[43mlanguage_code\u001b[49m\u001b[38;5;241;43m=\u001b[39;49m\u001b[43mlanguage_code\u001b[49m\u001b[43m,\u001b[49m\n\u001b[1;32m    171\u001b[0m \u001b[43m        \u001b[49m\u001b[43mvoice_settings\u001b[49m\u001b[38;5;241;43m=\u001b[39;49m\u001b[43mvoice_settings\u001b[49m\u001b[43m,\u001b[49m\n\u001b[1;32m    172\u001b[0m \u001b[43m        \u001b[49m\u001b[43mpronunciation_dictionary_locators\u001b[49m\u001b[38;5;241;43m=\u001b[39;49m\u001b[43mpronunciation_dictionary_locators\u001b[49m\u001b[43m,\u001b[49m\n\u001b[1;32m    173\u001b[0m \u001b[43m        \u001b[49m\u001b[43mseed\u001b[49m\u001b[38;5;241;43m=\u001b[39;49m\u001b[43mseed\u001b[49m\u001b[43m,\u001b[49m\n\u001b[1;32m    174\u001b[0m \u001b[43m        \u001b[49m\u001b[43mprevious_text\u001b[49m\u001b[38;5;241;43m=\u001b[39;49m\u001b[43mprevious_text\u001b[49m\u001b[43m,\u001b[49m\n\u001b[1;32m    175\u001b[0m \u001b[43m        \u001b[49m\u001b[43mnext_text\u001b[49m\u001b[38;5;241;43m=\u001b[39;49m\u001b[43mnext_text\u001b[49m\u001b[43m,\u001b[49m\n\u001b[1;32m    176\u001b[0m \u001b[43m        \u001b[49m\u001b[43mprevious_request_ids\u001b[49m\u001b[38;5;241;43m=\u001b[39;49m\u001b[43mprevious_request_ids\u001b[49m\u001b[43m,\u001b[49m\n\u001b[1;32m    177\u001b[0m \u001b[43m        \u001b[49m\u001b[43mnext_request_ids\u001b[49m\u001b[38;5;241;43m=\u001b[39;49m\u001b[43mnext_request_ids\u001b[49m\u001b[43m,\u001b[49m\n\u001b[1;32m    178\u001b[0m \u001b[43m        \u001b[49m\u001b[43muse_pvc_as_ivc\u001b[49m\u001b[38;5;241;43m=\u001b[39;49m\u001b[43muse_pvc_as_ivc\u001b[49m\u001b[43m,\u001b[49m\n\u001b[1;32m    179\u001b[0m \u001b[43m        \u001b[49m\u001b[43mapply_text_normalization\u001b[49m\u001b[38;5;241;43m=\u001b[39;49m\u001b[43mapply_text_normalization\u001b[49m\u001b[43m,\u001b[49m\n\u001b[1;32m    180\u001b[0m \u001b[43m        \u001b[49m\u001b[43mapply_language_text_normalization\u001b[49m\u001b[38;5;241;43m=\u001b[39;49m\u001b[43mapply_language_text_normalization\u001b[49m\u001b[43m,\u001b[49m\n\u001b[1;32m    181\u001b[0m \u001b[43m        \u001b[49m\u001b[43mrequest_options\u001b[49m\u001b[38;5;241;43m=\u001b[39;49m\u001b[43mrequest_options\u001b[49m\u001b[43m,\u001b[49m\n\u001b[1;32m    182\u001b[0m \u001b[43m    \u001b[49m\u001b[43m)\u001b[49m\u001b[43m \u001b[49m\u001b[38;5;28;43;01mas\u001b[39;49;00m\u001b[43m \u001b[49m\u001b[43mr\u001b[49m\u001b[43m:\u001b[49m\n\u001b[1;32m    183\u001b[0m \u001b[43m        \u001b[49m\u001b[38;5;28;43;01myield from\u001b[39;49;00m\u001b[43m \u001b[49m\u001b[43mr\u001b[49m\u001b[38;5;241;43m.\u001b[39;49m\u001b[43mdata\u001b[49m\n",
      "File \u001b[0;32m/opt/homebrew/Caskroom/miniforge/base/envs/py311/lib/python3.11/contextlib.py:137\u001b[0m, in \u001b[0;36m_GeneratorContextManager.__enter__\u001b[0;34m(self)\u001b[0m\n\u001b[1;32m    135\u001b[0m \u001b[38;5;28;01mdel\u001b[39;00m \u001b[38;5;28mself\u001b[39m\u001b[38;5;241m.\u001b[39margs, \u001b[38;5;28mself\u001b[39m\u001b[38;5;241m.\u001b[39mkwds, \u001b[38;5;28mself\u001b[39m\u001b[38;5;241m.\u001b[39mfunc\n\u001b[1;32m    136\u001b[0m \u001b[38;5;28;01mtry\u001b[39;00m:\n\u001b[0;32m--> 137\u001b[0m     \u001b[38;5;28;01mreturn\u001b[39;00m \u001b[38;5;28mnext\u001b[39m(\u001b[38;5;28mself\u001b[39m\u001b[38;5;241m.\u001b[39mgen)\n\u001b[1;32m    138\u001b[0m \u001b[38;5;28;01mexcept\u001b[39;00m \u001b[38;5;167;01mStopIteration\u001b[39;00m:\n\u001b[1;32m    139\u001b[0m     \u001b[38;5;28;01mraise\u001b[39;00m \u001b[38;5;167;01mRuntimeError\u001b[39;00m(\u001b[38;5;124m\"\u001b[39m\u001b[38;5;124mgenerator didn\u001b[39m\u001b[38;5;124m'\u001b[39m\u001b[38;5;124mt yield\u001b[39m\u001b[38;5;124m\"\u001b[39m) \u001b[38;5;28;01mfrom\u001b[39;00m \u001b[38;5;28;01mNone\u001b[39;00m\n",
      "File \u001b[0;32m/opt/homebrew/Caskroom/miniforge/base/envs/py311/lib/python3.11/site-packages/elevenlabs/text_to_speech/raw_client.py:210\u001b[0m, in \u001b[0;36mRawTextToSpeechClient.convert\u001b[0;34m(self, voice_id, text, enable_logging, optimize_streaming_latency, output_format, model_id, language_code, voice_settings, pronunciation_dictionary_locators, seed, previous_text, next_text, previous_request_ids, next_request_ids, use_pvc_as_ivc, apply_text_normalization, apply_language_text_normalization, request_options)\u001b[0m\n\u001b[1;32m    205\u001b[0m         \u001b[38;5;28;01mraise\u001b[39;00m ApiError(\n\u001b[1;32m    206\u001b[0m             status_code\u001b[38;5;241m=\u001b[39m_response\u001b[38;5;241m.\u001b[39mstatus_code, headers\u001b[38;5;241m=\u001b[39m\u001b[38;5;28mdict\u001b[39m(_response\u001b[38;5;241m.\u001b[39mheaders), body\u001b[38;5;241m=\u001b[39m_response\u001b[38;5;241m.\u001b[39mtext\n\u001b[1;32m    207\u001b[0m         )\n\u001b[1;32m    208\u001b[0m     \u001b[38;5;28;01mraise\u001b[39;00m ApiError(status_code\u001b[38;5;241m=\u001b[39m_response\u001b[38;5;241m.\u001b[39mstatus_code, headers\u001b[38;5;241m=\u001b[39m\u001b[38;5;28mdict\u001b[39m(_response\u001b[38;5;241m.\u001b[39mheaders), body\u001b[38;5;241m=\u001b[39m_response_json)\n\u001b[0;32m--> 210\u001b[0m \u001b[38;5;28;01myield\u001b[39;00m \u001b[43m_stream\u001b[49m\u001b[43m(\u001b[49m\u001b[43m)\u001b[49m\n",
      "File \u001b[0;32m/opt/homebrew/Caskroom/miniforge/base/envs/py311/lib/python3.11/site-packages/elevenlabs/text_to_speech/raw_client.py:208\u001b[0m, in \u001b[0;36mRawTextToSpeechClient.convert.<locals>._stream\u001b[0;34m()\u001b[0m\n\u001b[1;32m    204\u001b[0m \u001b[38;5;28;01mexcept\u001b[39;00m JSONDecodeError:\n\u001b[1;32m    205\u001b[0m     \u001b[38;5;28;01mraise\u001b[39;00m ApiError(\n\u001b[1;32m    206\u001b[0m         status_code\u001b[38;5;241m=\u001b[39m_response\u001b[38;5;241m.\u001b[39mstatus_code, headers\u001b[38;5;241m=\u001b[39m\u001b[38;5;28mdict\u001b[39m(_response\u001b[38;5;241m.\u001b[39mheaders), body\u001b[38;5;241m=\u001b[39m_response\u001b[38;5;241m.\u001b[39mtext\n\u001b[1;32m    207\u001b[0m     )\n\u001b[0;32m--> 208\u001b[0m \u001b[38;5;28;01mraise\u001b[39;00m ApiError(status_code\u001b[38;5;241m=\u001b[39m_response\u001b[38;5;241m.\u001b[39mstatus_code, headers\u001b[38;5;241m=\u001b[39m\u001b[38;5;28mdict\u001b[39m(_response\u001b[38;5;241m.\u001b[39mheaders), body\u001b[38;5;241m=\u001b[39m_response_json)\n",
      "\u001b[0;31mApiError\u001b[0m: headers: {'date': 'Thu, 30 Oct 2025 09:54:56 GMT', 'server': 'uvicorn', 'content-length': '152', 'content-type': 'application/json', 'access-control-allow-origin': '*', 'access-control-allow-headers': '*', 'access-control-allow-methods': 'POST, PATCH, OPTIONS, DELETE, GET, PUT', 'access-control-max-age': '600', 'strict-transport-security': 'max-age=31536000; includeSubDomains', 'x-trace-id': '6a4be64f02401236a171f324d4b8e9df', 'x-region': 'us-central1', 'via': '1.1 google, 1.1 google', 'alt-svc': 'h3=\":443\"; ma=2592000,h3-29=\":443\"; ma=2592000'}, status_code: 403, body: {'detail': {'status': 'output_format_not_allowed', 'message': 'Requested output format pcm_44100 (PCM at 44100hz) is only allowed for Pro tier and above.'}}"
     ]
    }
   ],
   "source": [
    "import re\n",
    "import numpy as np\n",
    "\n",
    "sentence_pattern = re.compile(r'[.!?]+')\n",
    "sentence_buffer = \"\"\n",
    "audio_chunks = []\n",
    "\n",
    "start_time = time.time()\n",
    "first_audio_time = None\n",
    "\n",
    "with anthropic_client.messages.stream(\n",
    "    model=\"claude-haiku-4-5\",\n",
    "    max_tokens=1000,\n",
    "    temperature=0,\n",
    "    messages=[{\"role\": \"user\", \"content\": transcription.text}]\n",
    ") as stream:\n",
    "    for text in stream.text_stream:\n",
    "        print(text, end=\"\", flush=True)\n",
    "        sentence_buffer += text\n",
    "        \n",
    "        if sentence_pattern.search(sentence_buffer):\n",
    "            sentences = sentence_pattern.split(sentence_buffer)\n",
    "            \n",
    "            for i in range(len(sentences) - 1):\n",
    "                complete_sentence = sentences[i].strip()\n",
    "                if complete_sentence:\n",
    "                    audio_gen = elevenlabs_client.text_to_speech.convert(\n",
    "                        voice_id=VOICE_ID,\n",
    "                        output_format=\"pcm_44100\",\n",
    "                        text=complete_sentence,\n",
    "                        model_id=\"eleven_turbo_v2_5\"\n",
    "                    )\n",
    "\n",
    "                    sentence_audio = io.BytesIO()\n",
    "                    for chunk in audio_gen:\n",
    "                        if first_audio_time is None:\n",
    "                            first_audio_time = time.time()\n",
    "                        sentence_audio.write(chunk)\n",
    "                    \n",
    "                    audio_chunks.append(sentence_audio.getvalue())\n",
    "            \n",
    "            sentence_buffer = sentences[-1]\n",
    "\n",
    "if sentence_buffer.strip():\n",
    "    audio_gen = elevenlabs_client.text_to_speech.convert(\n",
    "        voice_id=VOICE_ID,\n",
    "        output_format=\"pcm_44100\",\n",
    "        text=sentence_buffer.strip(),\n",
    "        model_id=\"eleven_turbo_v2_5\"\n",
    "    )\n",
    "    sentence_audio = io.BytesIO()\n",
    "    for chunk in audio_gen:\n",
    "        sentence_audio.write(chunk)\n",
    "    audio_chunks.append(sentence_audio.getvalue())\n",
    "\n",
    "sentence_streaming_time_to_first_audio = first_audio_time - start_time\n",
    "print(f\"\\n\\nTime to first audio: {sentence_streaming_time_to_first_audio:.2f} seconds\")\n",
    "\n",
    "# Combine PCM chunks and convert to numpy array for playback\n",
    "combined_pcm = b\"\".join(audio_chunks)\n",
    "audio_array = np.frombuffer(combined_pcm, dtype=np.int16)\n",
    "Audio(audio_array, rate=44100)"
   ]
  },
  {
   "cell_type": "markdown",
   "id": "dho5t9gbaie",
   "metadata": {},
   "source": [
    "### The Problem: Disconnected Audio\n",
    "\n",
    "While this approach achieves excellent latency, there's a quality issue. Each sentence is synthesized independently, which causes the audio to sound disconnected and unnatural. The prosody (rhythm, stress, intonation) doesn't flow smoothly between sentences.\n",
    "\n",
    "This happens because the TTS model doesn't have context about what comes next, so each sentence is treated as a standalone utterance."
   ]
  },
  {
   "cell_type": "markdown",
   "id": "bmyu8apfy7o",
   "metadata": {},
   "source": [
    "## WebSocket Streaming: The Best of Both Worlds\n",
    "\n",
    "ElevenLabs offers a WebSocket API that solves this problem perfectly. Instead of waiting for complete sentences, we can stream text chunks directly to the TTS engine as they arrive from Claude.\n",
    "\n",
    "The WebSocket API:\n",
    "- Accepts streaming text input (no sentence buffering needed)\n",
    "- Maintains context across chunks for natural prosody\n",
    "- Returns audio chunks as soon as they're ready\n",
    "- Achieves the lowest possible latency with the best audio quality\n",
    "\n",
    "Let's implement this ultimate optimization:"
   ]
  },
  {
   "cell_type": "markdown",
   "id": "9e4d0f39",
   "metadata": {},
   "source": [
    "## Building a Production Voice Assistant\n",
    "\n",
    "The techniques demonstrated in this notebook provide the foundation for building a real-time voice assistant. The WebSocket streaming approach minimizes latency while maintaining natural audio quality.\n",
    "\n",
    "### Key Implementation Challenges\n",
    "\n",
    "When building a production system, you'll need to solve several additional challenges beyond the basic streaming:\n",
    "\n",
    "1. **Continuous Audio Playback**: Audio chunks must play seamlessly without gaps or crackling. This requires careful buffer management and pre-buffering strategies.\n",
    "\n",
    "2. **Microphone Input**: Real-time recording from the microphone with proper handling of audio formats and sample rates.\n",
    "\n",
    "3. **Conversation State**: Maintaining conversation history across turns so Claude can reference previous context.\n",
    "\n",
    "4. **Audio Quality**: Converting between different audio formats (PCM, WAV) and avoiding artifacts from encoding.\n",
    "\n",
    "### Complete Implementation\n",
    "\n",
    "We've built a complete voice assistant script that demonstrates all these techniques:\n",
    "\n",
    "**`stream_voice_assistant_websocket.py`** - A production-ready conversational voice assistant featuring:\n",
    "- Microphone recording with Enter-to-stop control\n",
    "- ElevenLabs speech-to-text transcription\n",
    "- Claude streaming with conversation history\n",
    "- WebSocket-based TTS with minimal latency\n",
    "- Custom audio queue for gapless playback\n",
    "- Continuous conversation loop\n",
    "\n",
    "Run the script to experience a fully functional voice assistant:\n",
    "\n",
    "```bash\n",
    "python stream_voice_assistant_websocket.py\n",
    "```\n",
    "\n",
    "This demonstrates how the streaming optimizations from this notebook translate into a real-world application with production-quality audio handling."
   ]
  }
 ],
 "metadata": {
  "kernelspec": {
   "display_name": "py311",
   "language": "python",
   "name": "python3"
  },
  "language_info": {
   "codemirror_mode": {
    "name": "ipython",
    "version": 3
   },
   "file_extension": ".py",
   "mimetype": "text/x-python",
   "name": "python",
   "nbconvert_exporter": "python",
   "pygments_lexer": "ipython3",
   "version": "3.11.13"
  }
 },
 "nbformat": 4,
 "nbformat_minor": 5
}
